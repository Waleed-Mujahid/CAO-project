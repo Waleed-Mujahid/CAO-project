{
  "cells": [
    {
      "cell_type": "markdown",
      "metadata": {
        "id": "view-in-github",
        "colab_type": "text"
      },
      "source": [
        "<a href=\"https://colab.research.google.com/github/Waleed-Mujahid/CAO-project/blob/main/Cao_Project.ipynb\" target=\"_parent\"><img src=\"https://colab.research.google.com/assets/colab-badge.svg\" alt=\"Open In Colab\"/></a>"
      ]
    },
    {
      "cell_type": "code",
      "execution_count": null,
      "metadata": {
        "id": "6mituc69YjUw"
      },
      "outputs": [],
      "source": [
        "# including dependecies\n",
        "import tensorflow as tf\n",
        "from keras.preprocessing.image import ImageDataGenerator\n",
        "from keras.models import Sequential\n",
        "from keras.layers import Conv2D, MaxPooling2D, Flatten, Dense\n",
        "import matplotlib.pyplot as plt\n",
        "import keras"
      ]
    },
    {
      "cell_type": "code",
      "execution_count": null,
      "metadata": {
        "id": "td-Dux8PYouD"
      },
      "outputs": [],
      "source": [
        "# image dimensions, set as per need\n",
        "img_width, img_height = 96,96  # 96 x 96 suitable for micro-controller"
      ]
    },
    {
      "cell_type": "code",
      "execution_count": null,
      "metadata": {
        "id": "z86wli32MjZM"
      },
      "outputs": [],
      "source": [
        "# Loading our dataset from Drive\n",
        "# First mount drive\n",
        "\n",
        "train_data_dir = '/content/drive/MyDrive/cao data/train'\n",
        "validation_data_dir = '/content/drive/MyDrive/cao data/test'\n",
        "test_data_dir = '/content/drive/MyDrive/test_Data'"
      ]
    },
    {
      "cell_type": "code",
      "execution_count": null,
      "metadata": {
        "id": "Y-PvRWTkbONJ"
      },
      "outputs": [],
      "source": [
        "# Data pre-processing\n",
        "train_datagen = ImageDataGenerator( \n",
        "rescale=1. / 255,\n",
        "rotation_range = 10,\n",
        "shear_range=0.2,\n",
        "zoom_range=0.2,\n",
        "horizontal_flip=True)"
      ]
    },
    {
      "cell_type": "code",
      "execution_count": null,
      "metadata": {
        "id": "ujHCX9KYb2x2"
      },
      "outputs": [],
      "source": [
        "# rescaling\n",
        "test_datagen = ImageDataGenerator(rescale=1. / 255)"
      ]
    },
    {
      "cell_type": "code",
      "execution_count": null,
      "metadata": {
        "id": "nt2U9ADidBC0"
      },
      "outputs": [],
      "source": [
        "# Getting data generator from directory\n",
        "\n",
        "train_generator = train_datagen.flow_from_directory(\n",
        "train_data_dir,\n",
        "batch_size = 8,\n",
        "target_size=(img_width, img_height),\n",
        "color_mode=\"grayscale\",\n",
        "class_mode='binary')\n",
        "\n",
        "validation_generator = test_datagen.flow_from_directory(\n",
        "validation_data_dir,\n",
        "batch_size = 8,\n",
        "color_mode=\"grayscale\",\n",
        "target_size=(img_width, img_height),\n",
        "class_mode='binary')\n",
        "\n",
        "test_generator = test_datagen.flow_from_directory(\n",
        "test_data_dir,\n",
        "batch_size = 8,\n",
        "color_mode=\"grayscale\",\n",
        "target_size=(img_width, img_height),\n",
        "class_mode='binary')"
      ]
    },
    {
      "cell_type": "code",
      "execution_count": null,
      "metadata": {
        "id": "GwlXAe21liIT"
      },
      "outputs": [],
      "source": [
        "# Building our model in Keras\n",
        "\n",
        "model = Sequential()\n",
        "model.add(Conv2D(4, (5, 5), strides = (2,2), input_shape=(img_width, img_height,1)))  # Input size of all images must be standard for model\n",
        "model.add(MaxPooling2D(strides=2))\n",
        "\n",
        "model.add(Conv2D(8, (4, 4), strides = (2,2)))\n",
        "model.add(MaxPooling2D(strides=2))\n",
        "model.add(keras.layers.Activation('relu'))\n",
        "\n",
        "model.add(Conv2D(16, (3, 3)))\n",
        "model.add(MaxPooling2D(strides=2))\n",
        "model.add(keras.layers.Activation('relu'))\n",
        "\n",
        "model.add(Flatten())\n",
        "model.add(Dense(8, activation='sigmoid'))\n",
        "model.add(Dense(1, activation='sigmoid'))\n",
        "\n",
        "model.summary()"
      ]
    },
    {
      "cell_type": "code",
      "execution_count": null,
      "metadata": {
        "id": "t1Mc8FETdRwN"
      },
      "outputs": [],
      "source": [
        "model.compile(loss=tf.keras.losses.binary_crossentropy,\n",
        "optimizer=tf.keras.optimizers.Adam(learning_rate=0.0001),\n",
        "metrics=['accuracy'])"
      ]
    },
    {
      "cell_type": "code",
      "execution_count": null,
      "metadata": {
        "id": "rhOIXoNhd6UU",
        "collapsed": true
      },
      "outputs": [],
      "source": [
        "history = model.fit(\n",
        "train_generator,\n",
        "epochs=10,\n",
        "validation_data=validation_generator,\n",
        "batch_size = 8,\n",
        "class_weight= {0: 1,1: 3} # weight bcs ou data set is imballanced\n",
        ") "
      ]
    },
    {
      "cell_type": "code",
      "execution_count": null,
      "metadata": {
        "id": "roUDPadieTgk"
      },
      "outputs": [],
      "source": [
        "model.evaluate(test_generator)"
      ]
    },
    {
      "cell_type": "code",
      "execution_count": null,
      "metadata": {
        "id": "V8AQDMEQI1Bp"
      },
      "outputs": [],
      "source": [
        "plt.plot(history.history['accuracy'])\n",
        "plt.plot(history.history['val_accuracy'])"
      ]
    },
    {
      "cell_type": "code",
      "execution_count": null,
      "metadata": {
        "id": "rNVk8rtM_O47"
      },
      "outputs": [],
      "source": [
        "plt.plot(history.history['loss'])\n",
        "plt.plot(history.history['val_loss'])"
      ]
    },
    {
      "cell_type": "code",
      "execution_count": null,
      "metadata": {
        "id": "nL6TANZq9_fB"
      },
      "outputs": [],
      "source": [
        "# Convert the model\n",
        "converter = tf.lite.TFLiteConverter.from_keras_model(model)\n",
        "tflite_model = converter.convert()\n",
        "\n",
        "# Save the model.\n",
        "with open('cao.tflite', 'wb') as f:\n",
        "  f.write(tflite_model)"
      ]
    },
    {
      "cell_type": "code",
      "execution_count": null,
      "metadata": {
        "id": "AeAa3E6qn3Lj"
      },
      "outputs": [],
      "source": [
        "#!apt-get -qq install xxd\n",
        "!xxd -i cao.tflite > model.cc"
      ]
    }
  ],
  "metadata": {
    "accelerator": "TPU",
    "colab": {
      "collapsed_sections": [],
      "name": "Cao_Project.ipynb",
      "provenance": [],
      "mount_file_id": "1LF6I2j6YT3jKU0CSAzvqZR6CPJdydW33",
      "authorship_tag": "ABX9TyM1TBg6nHj954+qRJe20VZs",
      "include_colab_link": true
    },
    "kernelspec": {
      "display_name": "Python 3",
      "name": "python3"
    },
    "language_info": {
      "name": "python"
    }
  },
  "nbformat": 4,
  "nbformat_minor": 0
}